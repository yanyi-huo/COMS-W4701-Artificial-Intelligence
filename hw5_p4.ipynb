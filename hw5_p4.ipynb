{
 "cells": [
  {
   "cell_type": "code",
   "execution_count": 2,
   "id": "db764121",
   "metadata": {},
   "outputs": [
    {
     "name": "stdout",
     "output_type": "stream",
     "text": [
      "Collecting pgmpy\n",
      "  Downloading pgmpy-0.1.18-py3-none-any.whl (1.9 MB)\n",
      "\u001b[2K     \u001b[90m━━━━━━━━━━━━━━━━━━━━━━━━━━━━━━━━━━━━━━━━\u001b[0m \u001b[32m1.9/1.9 MB\u001b[0m \u001b[31m12.4 MB/s\u001b[0m eta \u001b[36m0:00:00\u001b[0m00:01\u001b[0m00:01\u001b[0m\n",
      "\u001b[?25hRequirement already satisfied: torch in /Users/yanyihuo/opt/anaconda3/lib/python3.8/site-packages (from pgmpy) (1.10.0)\n",
      "Requirement already satisfied: numpy in /Users/yanyihuo/opt/anaconda3/lib/python3.8/site-packages (from pgmpy) (1.20.1)\n",
      "Requirement already satisfied: scikit-learn in /Users/yanyihuo/opt/anaconda3/lib/python3.8/site-packages (from pgmpy) (0.24.1)\n",
      "Requirement already satisfied: tqdm in /Users/yanyihuo/opt/anaconda3/lib/python3.8/site-packages (from pgmpy) (4.59.0)\n",
      "Requirement already satisfied: pandas in /Users/yanyihuo/opt/anaconda3/lib/python3.8/site-packages (from pgmpy) (1.2.4)\n",
      "Requirement already satisfied: statsmodels in /Users/yanyihuo/opt/anaconda3/lib/python3.8/site-packages (from pgmpy) (0.12.2)\n",
      "Requirement already satisfied: pyparsing in /Users/yanyihuo/opt/anaconda3/lib/python3.8/site-packages (from pgmpy) (2.4.7)\n",
      "Requirement already satisfied: joblib in /Users/yanyihuo/opt/anaconda3/lib/python3.8/site-packages (from pgmpy) (1.0.1)\n",
      "Requirement already satisfied: scipy in /Users/yanyihuo/opt/anaconda3/lib/python3.8/site-packages (from pgmpy) (1.6.2)\n",
      "Requirement already satisfied: networkx in /Users/yanyihuo/opt/anaconda3/lib/python3.8/site-packages (from pgmpy) (2.5)\n",
      "Requirement already satisfied: decorator>=4.3.0 in /Users/yanyihuo/opt/anaconda3/lib/python3.8/site-packages (from networkx->pgmpy) (5.0.6)\n",
      "Requirement already satisfied: python-dateutil>=2.7.3 in /Users/yanyihuo/opt/anaconda3/lib/python3.8/site-packages (from pandas->pgmpy) (2.8.1)\n",
      "Requirement already satisfied: pytz>=2017.3 in /Users/yanyihuo/opt/anaconda3/lib/python3.8/site-packages (from pandas->pgmpy) (2021.1)\n",
      "Requirement already satisfied: threadpoolctl>=2.0.0 in /Users/yanyihuo/opt/anaconda3/lib/python3.8/site-packages (from scikit-learn->pgmpy) (2.1.0)\n",
      "Requirement already satisfied: patsy>=0.5 in /Users/yanyihuo/opt/anaconda3/lib/python3.8/site-packages (from statsmodels->pgmpy) (0.5.1)\n",
      "Requirement already satisfied: typing-extensions in /Users/yanyihuo/opt/anaconda3/lib/python3.8/site-packages (from torch->pgmpy) (3.7.4.3)\n",
      "Requirement already satisfied: six in /Users/yanyihuo/opt/anaconda3/lib/python3.8/site-packages (from patsy>=0.5->statsmodels->pgmpy) (1.15.0)\n",
      "Installing collected packages: pgmpy\n",
      "Successfully installed pgmpy-0.1.18\n"
     ]
    }
   ],
   "source": [
    "!pip install pgmpy\n",
    "from pgmpy.utils import get_example_model"
   ]
  },
  {
   "cell_type": "markdown",
   "id": "b245fa9d",
   "metadata": {},
   "source": [
    "4.1"
   ]
  },
  {
   "cell_type": "code",
   "execution_count": 14,
   "id": "7f5b002d",
   "metadata": {},
   "outputs": [],
   "source": [
    "from pgmpy.inference import VariableElimination\n",
    "import timeit\n",
    "import matplotlib.pyplot as plt\n",
    "import math"
   ]
  },
  {
   "cell_type": "code",
   "execution_count": 65,
   "id": "1f71bf7a",
   "metadata": {},
   "outputs": [
    {
     "data": {
      "application/vnd.jupyter.widget-view+json": {
       "model_id": "87489f2641da47eca9a67b644e334334",
       "version_major": 2,
       "version_minor": 0
      },
      "text/plain": [
       "  0%|          | 0/3 [00:00<?, ?it/s]"
      ]
     },
     "metadata": {},
     "output_type": "display_data"
    },
    {
     "data": {
      "application/vnd.jupyter.widget-view+json": {
       "model_id": "2e8d0da1bb0743288bbea5bff1cdb6be",
       "version_major": 2,
       "version_minor": 0
      },
      "text/plain": [
       "  0%|          | 0/3 [00:00<?, ?it/s]"
      ]
     },
     "metadata": {},
     "output_type": "display_data"
    },
    {
     "name": "stdout",
     "output_type": "stream",
     "text": [
      "+------------------+------------------+\n",
      "| JohnCalls        |   phi(JohnCalls) |\n",
      "+==================+==================+\n",
      "| JohnCalls(True)  |           0.0637 |\n",
      "+------------------+------------------+\n",
      "| JohnCalls(False) |           0.9363 |\n",
      "+------------------+------------------+\n"
     ]
    },
    {
     "data": {
      "application/vnd.jupyter.widget-view+json": {
       "model_id": "176559642ac24167ba5d5dae6c654601",
       "version_major": 2,
       "version_minor": 0
      },
      "text/plain": [
       "  0%|          | 0/5 [00:00<?, ?it/s]"
      ]
     },
     "metadata": {},
     "output_type": "display_data"
    },
    {
     "data": {
      "application/vnd.jupyter.widget-view+json": {
       "model_id": "f6a3ea631767481aab4bd4ac26b1efcf",
       "version_major": 2,
       "version_minor": 0
      },
      "text/plain": [
       "  0%|          | 0/5 [00:00<?, ?it/s]"
      ]
     },
     "metadata": {},
     "output_type": "display_data"
    },
    {
     "name": "stdout",
     "output_type": "stream",
     "text": [
      "+----------+----------+\n",
      "| T        |   phi(T) |\n",
      "+==========+==========+\n",
      "| T(car)   |   0.5618 |\n",
      "+----------+----------+\n",
      "| T(train) |   0.2809 |\n",
      "+----------+----------+\n",
      "| T(other) |   0.1573 |\n",
      "+----------+----------+\n"
     ]
    },
    {
     "data": {
      "application/vnd.jupyter.widget-view+json": {
       "model_id": "3a2f59e88e7e486da04f4e289748fd36",
       "version_major": 2,
       "version_minor": 0
      },
      "text/plain": [
       "  0%|          | 0/6 [00:00<?, ?it/s]"
      ]
     },
     "metadata": {},
     "output_type": "display_data"
    },
    {
     "data": {
      "application/vnd.jupyter.widget-view+json": {
       "model_id": "5799fe1430484d39b350673c5a139ad2",
       "version_major": 2,
       "version_minor": 0
      },
      "text/plain": [
       "  0%|          | 0/6 [00:00<?, ?it/s]"
      ]
     },
     "metadata": {},
     "output_type": "display_data"
    },
    {
     "name": "stdout",
     "output_type": "stream",
     "text": [
      "+-----------+-------------+\n",
      "| dysp      |   phi(dysp) |\n",
      "+===========+=============+\n",
      "| dysp(yes) |      0.4360 |\n",
      "+-----------+-------------+\n",
      "| dysp(no)  |      0.5640 |\n",
      "+-----------+-------------+\n"
     ]
    },
    {
     "data": {
      "application/vnd.jupyter.widget-view+json": {
       "model_id": "683694f121c441fa8d403c74195a99a1",
       "version_major": 2,
       "version_minor": 0
      },
      "text/plain": [
       "  0%|          | 0/5 [00:00<?, ?it/s]"
      ]
     },
     "metadata": {},
     "output_type": "display_data"
    },
    {
     "data": {
      "application/vnd.jupyter.widget-view+json": {
       "model_id": "bff1733de9674bb7bc3979a5d9d62053",
       "version_major": 2,
       "version_minor": 0
      },
      "text/plain": [
       "  0%|          | 0/5 [00:00<?, ?it/s]"
      ]
     },
     "metadata": {},
     "output_type": "display_data"
    },
    {
     "name": "stdout",
     "output_type": "stream",
     "text": [
      "+-----------+------------+\n",
      "| Akt       |   phi(Akt) |\n",
      "+===========+============+\n",
      "| Akt(LOW)  |     0.6094 |\n",
      "+-----------+------------+\n",
      "| Akt(AVG)  |     0.3104 |\n",
      "+-----------+------------+\n",
      "| Akt(HIGH) |     0.0802 |\n",
      "+-----------+------------+\n"
     ]
    },
    {
     "data": {
      "application/vnd.jupyter.widget-view+json": {
       "model_id": "7db6f3ca28114fd8b89f0a6e246280cb",
       "version_major": 2,
       "version_minor": 0
      },
      "text/plain": [
       "  0%|          | 0/7 [00:00<?, ?it/s]"
      ]
     },
     "metadata": {},
     "output_type": "display_data"
    },
    {
     "data": {
      "application/vnd.jupyter.widget-view+json": {
       "model_id": "174db1fc9edc4b65b12a746cdd8ba7e0",
       "version_major": 2,
       "version_minor": 0
      },
      "text/plain": [
       "  0%|          | 0/7 [00:00<?, ?it/s]"
      ]
     },
     "metadata": {},
     "output_type": "display_data"
    },
    {
     "name": "stdout",
     "output_type": "stream",
     "text": [
      "+-------------------+--------------------+\n",
      "| LowerBodyO2       |   phi(LowerBodyO2) |\n",
      "+===================+====================+\n",
      "| LowerBodyO2(<5)   |             0.3714 |\n",
      "+-------------------+--------------------+\n",
      "| LowerBodyO2(5-12) |             0.4887 |\n",
      "+-------------------+--------------------+\n",
      "| LowerBodyO2(12+)  |             0.1399 |\n",
      "+-------------------+--------------------+\n"
     ]
    },
    {
     "data": {
      "application/vnd.jupyter.widget-view+json": {
       "model_id": "631d7a11025b4d408f80fadd882569f9",
       "version_major": 2,
       "version_minor": 0
      },
      "text/plain": [
       "  0%|          | 0/19 [00:00<?, ?it/s]"
      ]
     },
     "metadata": {},
     "output_type": "display_data"
    },
    {
     "data": {
      "application/vnd.jupyter.widget-view+json": {
       "model_id": "bf5882d915944431ab78fd7430754c77",
       "version_major": 2,
       "version_minor": 0
      },
      "text/plain": [
       "  0%|          | 0/19 [00:00<?, ?it/s]"
      ]
     },
     "metadata": {},
     "output_type": "display_data"
    },
    {
     "name": "stdout",
     "output_type": "stream",
     "text": [
      "+-----------------------+-----------------+\n",
      "| PropCost              |   phi(PropCost) |\n",
      "+=======================+=================+\n",
      "| PropCost(Thousand)    |          0.5629 |\n",
      "+-----------------------+-----------------+\n",
      "| PropCost(TenThou)     |          0.3152 |\n",
      "+-----------------------+-----------------+\n",
      "| PropCost(HundredThou) |          0.1051 |\n",
      "+-----------------------+-----------------+\n",
      "| PropCost(Million)     |          0.0168 |\n",
      "+-----------------------+-----------------+\n"
     ]
    },
    {
     "data": {
      "application/vnd.jupyter.widget-view+json": {
       "model_id": "d5debfc7756541eca032ac15f2e39666",
       "version_major": 2,
       "version_minor": 0
      },
      "text/plain": [
       "  0%|          | 0/23 [00:00<?, ?it/s]"
      ]
     },
     "metadata": {},
     "output_type": "display_data"
    },
    {
     "data": {
      "application/vnd.jupyter.widget-view+json": {
       "model_id": "e4637707ff534dcfbc767ab0c7ff934d",
       "version_major": 2,
       "version_minor": 0
      },
      "text/plain": [
       "  0%|          | 0/23 [00:00<?, ?it/s]"
      ]
     },
     "metadata": {},
     "output_type": "display_data"
    },
    {
     "name": "stdout",
     "output_type": "stream",
     "text": [
      "+------------+-----------+\n",
      "| BP         |   phi(BP) |\n",
      "+============+===========+\n",
      "| BP(LOW)    |    0.3900 |\n",
      "+------------+-----------+\n",
      "| BP(NORMAL) |    0.2047 |\n",
      "+------------+-----------+\n",
      "| BP(HIGH)   |    0.4053 |\n",
      "+------------+-----------+\n"
     ]
    },
    {
     "data": {
      "image/png": "[encoded data removed]",
      "text/plain": [
       "<Figure size 432x288 with 1 Axes>"
      ]
     },
     "metadata": {
      "needs_background": "light"
     },
     "output_type": "display_data"
    },
    {
     "data": {
      "image/png": "[encoded data removed]",
      "text/plain": [
       "<Figure size 432x288 with 1 Axes>"
      ]
     },
     "metadata": {
      "needs_background": "light"
     },
     "output_type": "display_data"
    }
   ],
   "source": [
    "q_list = [('earthquake','JohnCalls'),('survey','T'),('asia','dysp'),('sachs','Akt'), ('child','LowerBodyO2'),('insurance','PropCost'),('alarm','BP')]\n",
    "para_num = [10, 21, 18, 178, 230, 984, 509]\n",
    "time_list = []\n",
    "node_list = []\n",
    "for i in range(len(q_list)):\n",
    "    model = get_example_model(q_list[i][0])\n",
    "    infer = VariableElimination(model)\n",
    "    before = timeit.default_timer()\n",
    "    q = infer.query(variables=[q_list[i][1]])\n",
    "    after = timeit.default_timer()\n",
    "    print(q)\n",
    "    time = after - before\n",
    "    time_list.append(math.log(time))\n",
    "    node_num = len(model.nodes())\n",
    "    node_list.append(node_num)\n",
    "#plot 1\n",
    "plt.scatter(node_list, time_list)\n",
    "plt.xlabel(\"number of nodes\")\n",
    "plt.ylabel(\"log of seconds\")\n",
    "plt.show()\n",
    "#plot 2\n",
    "plt.scatter(para_num, time_list)\n",
    "plt.xlabel(\"number of parameters\")\n",
    "plt.ylabel(\"log of seconds\")\n",
    "plt.show()\n",
    "    "
   ]
  },
  {
   "cell_type": "code",
   "execution_count": 26,
   "id": "d5a4c4a0",
   "metadata": {},
   "outputs": [
    {
     "data": {
      "application/vnd.jupyter.widget-view+json": {
       "model_id": "3a67c77d5c554111b43351953ecb72d2",
       "version_major": 2,
       "version_minor": 0
      },
      "text/plain": [
       "  0%|          | 0/3 [00:00<?, ?it/s]"
      ]
     },
     "metadata": {},
     "output_type": "display_data"
    },
    {
     "data": {
      "application/vnd.jupyter.widget-view+json": {
       "model_id": "eb62b5288df645c5b14134a9ddeab447",
       "version_major": 2,
       "version_minor": 0
      },
      "text/plain": [
       "  0%|          | 0/3 [00:00<?, ?it/s]"
      ]
     },
     "metadata": {},
     "output_type": "display_data"
    },
    {
     "name": "stdout",
     "output_type": "stream",
     "text": [
      "+------------------+------------------+\n",
      "| JohnCalls        |   phi(JohnCalls) |\n",
      "+==================+==================+\n",
      "| JohnCalls(True)  |           0.0637 |\n",
      "+------------------+------------------+\n",
      "| JohnCalls(False) |           0.9363 |\n",
      "+------------------+------------------+\n"
     ]
    },
    {
     "data": {
      "application/vnd.jupyter.widget-view+json": {
       "model_id": "528d3f5318364778bb41cc3d26f3533b",
       "version_major": 2,
       "version_minor": 0
      },
      "text/plain": [
       "  0%|          | 0/5 [00:00<?, ?it/s]"
      ]
     },
     "metadata": {},
     "output_type": "display_data"
    },
    {
     "data": {
      "application/vnd.jupyter.widget-view+json": {
       "model_id": "01b6f05eedb249768ec610219583a244",
       "version_major": 2,
       "version_minor": 0
      },
      "text/plain": [
       "  0%|          | 0/5 [00:00<?, ?it/s]"
      ]
     },
     "metadata": {},
     "output_type": "display_data"
    },
    {
     "name": "stdout",
     "output_type": "stream",
     "text": [
      "+----------+----------+\n",
      "| T        |   phi(T) |\n",
      "+==========+==========+\n",
      "| T(car)   |   0.5618 |\n",
      "+----------+----------+\n",
      "| T(train) |   0.2809 |\n",
      "+----------+----------+\n",
      "| T(other) |   0.1573 |\n",
      "+----------+----------+\n"
     ]
    },
    {
     "data": {
      "application/vnd.jupyter.widget-view+json": {
       "model_id": "2fc2e80c6ad14c47a4be59321f81d7a7",
       "version_major": 2,
       "version_minor": 0
      },
      "text/plain": [
       "  0%|          | 0/6 [00:00<?, ?it/s]"
      ]
     },
     "metadata": {},
     "output_type": "display_data"
    },
    {
     "data": {
      "application/vnd.jupyter.widget-view+json": {
       "model_id": "32428439580f478c93b586ace4b91a3a",
       "version_major": 2,
       "version_minor": 0
      },
      "text/plain": [
       "  0%|          | 0/6 [00:00<?, ?it/s]"
      ]
     },
     "metadata": {},
     "output_type": "display_data"
    },
    {
     "name": "stdout",
     "output_type": "stream",
     "text": [
      "+-----------+-------------+\n",
      "| dysp      |   phi(dysp) |\n",
      "+===========+=============+\n",
      "| dysp(yes) |      0.4360 |\n",
      "+-----------+-------------+\n",
      "| dysp(no)  |      0.5640 |\n",
      "+-----------+-------------+\n"
     ]
    },
    {
     "data": {
      "application/vnd.jupyter.widget-view+json": {
       "model_id": "f5cd2084d26e481ca3f443b5f14c6633",
       "version_major": 2,
       "version_minor": 0
      },
      "text/plain": [
       "  0%|          | 0/5 [00:00<?, ?it/s]"
      ]
     },
     "metadata": {},
     "output_type": "display_data"
    },
    {
     "data": {
      "application/vnd.jupyter.widget-view+json": {
       "model_id": "c31e70e66e6a4e21bbf1bdd880454a07",
       "version_major": 2,
       "version_minor": 0
      },
      "text/plain": [
       "  0%|          | 0/5 [00:00<?, ?it/s]"
      ]
     },
     "metadata": {},
     "output_type": "display_data"
    },
    {
     "name": "stdout",
     "output_type": "stream",
     "text": [
      "+-----------+------------+\n",
      "| Akt       |   phi(Akt) |\n",
      "+===========+============+\n",
      "| Akt(LOW)  |     0.6094 |\n",
      "+-----------+------------+\n",
      "| Akt(AVG)  |     0.3104 |\n",
      "+-----------+------------+\n",
      "| Akt(HIGH) |     0.0802 |\n",
      "+-----------+------------+\n"
     ]
    },
    {
     "data": {
      "application/vnd.jupyter.widget-view+json": {
       "model_id": "f69137a96ccc4f65a23ad7ad09381ea5",
       "version_major": 2,
       "version_minor": 0
      },
      "text/plain": [
       "  0%|          | 0/7 [00:00<?, ?it/s]"
      ]
     },
     "metadata": {},
     "output_type": "display_data"
    },
    {
     "data": {
      "application/vnd.jupyter.widget-view+json": {
       "model_id": "60d62f78956343649c3da4d90b140557",
       "version_major": 2,
       "version_minor": 0
      },
      "text/plain": [
       "  0%|          | 0/7 [00:00<?, ?it/s]"
      ]
     },
     "metadata": {},
     "output_type": "display_data"
    },
    {
     "name": "stdout",
     "output_type": "stream",
     "text": [
      "+-------------------+--------------------+\n",
      "| LowerBodyO2       |   phi(LowerBodyO2) |\n",
      "+===================+====================+\n",
      "| LowerBodyO2(<5)   |             0.3714 |\n",
      "+-------------------+--------------------+\n",
      "| LowerBodyO2(5-12) |             0.4887 |\n",
      "+-------------------+--------------------+\n",
      "| LowerBodyO2(12+)  |             0.1399 |\n",
      "+-------------------+--------------------+\n"
     ]
    },
    {
     "data": {
      "application/vnd.jupyter.widget-view+json": {
       "model_id": "b99041bec4af455bbf8a065aeb8010e5",
       "version_major": 2,
       "version_minor": 0
      },
      "text/plain": [
       "  0%|          | 0/19 [00:00<?, ?it/s]"
      ]
     },
     "metadata": {},
     "output_type": "display_data"
    },
    {
     "data": {
      "application/vnd.jupyter.widget-view+json": {
       "model_id": "0161a9cc415a4bbda0749f7319b42239",
       "version_major": 2,
       "version_minor": 0
      },
      "text/plain": [
       "  0%|          | 0/19 [00:00<?, ?it/s]"
      ]
     },
     "metadata": {},
     "output_type": "display_data"
    },
    {
     "name": "stdout",
     "output_type": "stream",
     "text": [
      "+-----------------------+-----------------+\n",
      "| PropCost              |   phi(PropCost) |\n",
      "+=======================+=================+\n",
      "| PropCost(Thousand)    |          0.5629 |\n",
      "+-----------------------+-----------------+\n",
      "| PropCost(TenThou)     |          0.3152 |\n",
      "+-----------------------+-----------------+\n",
      "| PropCost(HundredThou) |          0.1051 |\n",
      "+-----------------------+-----------------+\n",
      "| PropCost(Million)     |          0.0168 |\n",
      "+-----------------------+-----------------+\n"
     ]
    },
    {
     "data": {
      "application/vnd.jupyter.widget-view+json": {
       "model_id": "ad3667e1c6ee48258bd6344af3b3f5b2",
       "version_major": 2,
       "version_minor": 0
      },
      "text/plain": [
       "  0%|          | 0/23 [00:00<?, ?it/s]"
      ]
     },
     "metadata": {},
     "output_type": "display_data"
    },
    {
     "data": {
      "application/vnd.jupyter.widget-view+json": {
       "model_id": "483d626a3c884878a3229c29abd751b0",
       "version_major": 2,
       "version_minor": 0
      },
      "text/plain": [
       "  0%|          | 0/23 [00:00<?, ?it/s]"
      ]
     },
     "metadata": {},
     "output_type": "display_data"
    },
    {
     "name": "stdout",
     "output_type": "stream",
     "text": [
      "+------------+-----------+\n",
      "| BP         |   phi(BP) |\n",
      "+============+===========+\n",
      "| BP(LOW)    |    0.3900 |\n",
      "+------------+-----------+\n",
      "| BP(NORMAL) |    0.2047 |\n",
      "+------------+-----------+\n",
      "| BP(HIGH)   |    0.4053 |\n",
      "+------------+-----------+\n"
     ]
    },
    {
     "data": {
      "image/png": "[encoded data removed]",
      "text/plain": [
       "<Figure size 432x288 with 1 Axes>"
      ]
     },
     "metadata": {
      "needs_background": "light"
     },
     "output_type": "display_data"
    },
    {
     "data": {
      "image/png": "[encoded data removed]",
      "text/plain": [
       "<Figure size 432x288 with 1 Axes>"
      ]
     },
     "metadata": {
      "needs_background": "light"
     },
     "output_type": "display_data"
    }
   ],
   "source": [
    "time_list = []\n",
    "node_list = []\n",
    "for i in range(len(q_list)):\n",
    "    model = get_example_model(q_list[i][0])\n",
    "    infer = VariableElimination(model)\n",
    "    before = timeit.default_timer()\n",
    "    q = infer.query(variables=[q_list[i][1]], elimination_order='MinNeighbors')\n",
    "    after = timeit.default_timer()\n",
    "    print(q)\n",
    "    time = after - before\n",
    "    time_list.append(math.log(time))\n",
    "    node_num = len(model.nodes())\n",
    "    node_list.append(node_num)\n",
    "    \n",
    "#plot 1\n",
    "plt.scatter(node_list, time_list)\n",
    "plt.xlabel(\"number of nodes\")\n",
    "plt.ylabel(\"log of seconds\")\n",
    "plt.show()\n",
    "#plot 2\n",
    "plt.scatter(para_num, time_list)\n",
    "plt.xlabel(\"number of parameters\")\n",
    "plt.ylabel(\"log of seconds\")\n",
    "plt.show()\n",
    "    "
   ]
  },
  {
   "cell_type": "markdown",
   "id": "39afbcc7",
   "metadata": {},
   "source": [
    "4.2"
   ]
  },
  {
   "cell_type": "markdown",
   "id": "23d57db0",
   "metadata": {},
   "source": [
    "(a)"
   ]
  },
  {
   "cell_type": "code",
   "execution_count": 72,
   "id": "daacce77",
   "metadata": {},
   "outputs": [
    {
     "data": {
      "application/vnd.jupyter.widget-view+json": {
       "model_id": "11721edc6524472c980569a38cf223ad",
       "version_major": 2,
       "version_minor": 0
      },
      "text/plain": [
       "  0%|          | 0/19 [00:00<?, ?it/s]"
      ]
     },
     "metadata": {},
     "output_type": "display_data"
    },
    {
     "data": {
      "application/vnd.jupyter.widget-view+json": {
       "model_id": "c00da12a12dc4d7a8ee04f91362d65b3",
       "version_major": 2,
       "version_minor": 0
      },
      "text/plain": [
       "  0%|          | 0/19 [00:00<?, ?it/s]"
      ]
     },
     "metadata": {},
     "output_type": "display_data"
    },
    {
     "name": "stdout",
     "output_type": "stream",
     "text": [
      "+-----------------------+-----------------+\n",
      "| PropCost              |   phi(PropCost) |\n",
      "+=======================+=================+\n",
      "| PropCost(Thousand)    |          0.5629 |\n",
      "+-----------------------+-----------------+\n",
      "| PropCost(TenThou)     |          0.3152 |\n",
      "+-----------------------+-----------------+\n",
      "| PropCost(HundredThou) |          0.1051 |\n",
      "+-----------------------+-----------------+\n",
      "| PropCost(Million)     |          0.0168 |\n",
      "+-----------------------+-----------------+\n"
     ]
    }
   ],
   "source": [
    "insurance_model = get_example_model('insurance')\n",
    "insurance_infer = VariableElimination(insurance_model)\n",
    "q = insurance_infer.query(variables=['PropCost'])\n",
    "print(q)"
   ]
  },
  {
   "cell_type": "code",
   "execution_count": 74,
   "id": "090baca8",
   "metadata": {},
   "outputs": [
    {
     "name": "stdout",
     "output_type": "stream",
     "text": [
      "[0.56294559 0.31518759 0.10507029 0.01679652]\n",
      "4\n",
      "[0.10507029 0.01679652 0.31518759 0.56294559]\n"
     ]
    }
   ],
   "source": [
    "prob = q.values\n",
    "print(prob)\n",
    "prob = numpy.array([prob[2], prob[3],prob[1],prob[0]])\n",
    "print(prob)"
   ]
  },
  {
   "cell_type": "code",
   "execution_count": 67,
   "id": "aea295ed",
   "metadata": {},
   "outputs": [
    {
     "data": {
      "application/vnd.jupyter.widget-view+json": {
       "model_id": "46937907b0aa40e684c87b6331ddc306",
       "version_major": 2,
       "version_minor": 0
      },
      "text/plain": [
       "  0%|          | 0/27 [00:00<?, ?it/s]"
      ]
     },
     "metadata": {},
     "output_type": "display_data"
    },
    {
     "name": "stdout",
     "output_type": "stream",
     "text": [
      "+-----------------------+-----------------+\n",
      "| PropCost              |   phi(PropCost) |\n",
      "+=======================+=================+\n",
      "| PropCost(HundredThou) |          0.1000 |\n",
      "+-----------------------+-----------------+\n",
      "| PropCost(Million)     |          0.0300 |\n",
      "+-----------------------+-----------------+\n",
      "| PropCost(TenThou)     |          0.2600 |\n",
      "+-----------------------+-----------------+\n",
      "| PropCost(Thousand)    |          0.6100 |\n",
      "+-----------------------+-----------------+\n"
     ]
    }
   ],
   "source": [
    "approx_infer = ApproxInference(insurance_model)\n",
    "new_q = approx_infer.query(variables=[\"PropCost\"], n_samples=100)\n",
    "print(new_q)"
   ]
  },
  {
   "cell_type": "code",
   "execution_count": 115,
   "id": "4b1860f5",
   "metadata": {},
   "outputs": [
    {
     "data": {
      "application/vnd.jupyter.widget-view+json": {
       "model_id": "2ec99c00ac0c4760acc56683ca7ea7a9",
       "version_major": 2,
       "version_minor": 0
      },
      "text/plain": [
       "  0%|          | 0/27 [00:00<?, ?it/s]"
      ]
     },
     "metadata": {},
     "output_type": "display_data"
    },
    {
     "data": {
      "application/vnd.jupyter.widget-view+json": {
       "model_id": "1800c546545b4931b505ec3fc86f1306",
       "version_major": 2,
       "version_minor": 0
      },
      "text/plain": [
       "  0%|          | 0/27 [00:00<?, ?it/s]"
      ]
     },
     "metadata": {},
     "output_type": "display_data"
    },
    {
     "data": {
      "application/vnd.jupyter.widget-view+json": {
       "model_id": "73b073e0f14845168b72e12ea346f774",
       "version_major": 2,
       "version_minor": 0
      },
      "text/plain": [
       "  0%|          | 0/27 [00:00<?, ?it/s]"
      ]
     },
     "metadata": {},
     "output_type": "display_data"
    },
    {
     "data": {
      "application/vnd.jupyter.widget-view+json": {
       "model_id": "3e58dbb0a3504564abd39af00bf291f0",
       "version_major": 2,
       "version_minor": 0
      },
      "text/plain": [
       "  0%|          | 0/27 [00:00<?, ?it/s]"
      ]
     },
     "metadata": {},
     "output_type": "display_data"
    },
    {
     "data": {
      "application/vnd.jupyter.widget-view+json": {
       "model_id": "f97930960e02417a8ca5d723963bf6b8",
       "version_major": 2,
       "version_minor": 0
      },
      "text/plain": [
       "  0%|          | 0/27 [00:00<?, ?it/s]"
      ]
     },
     "metadata": {},
     "output_type": "display_data"
    },
    {
     "data": {
      "application/vnd.jupyter.widget-view+json": {
       "model_id": "1a8c4f547ba44a19bb852a39932e7aff",
       "version_major": 2,
       "version_minor": 0
      },
      "text/plain": [
       "  0%|          | 0/27 [00:00<?, ?it/s]"
      ]
     },
     "metadata": {},
     "output_type": "display_data"
    },
    {
     "data": {
      "application/vnd.jupyter.widget-view+json": {
       "model_id": "123706917cda4af794c2932583f6cd84",
       "version_major": 2,
       "version_minor": 0
      },
      "text/plain": [
       "  0%|          | 0/27 [00:00<?, ?it/s]"
      ]
     },
     "metadata": {},
     "output_type": "display_data"
    },
    {
     "data": {
      "application/vnd.jupyter.widget-view+json": {
       "model_id": "b30e4249d94046e39f48ef9cd6a1a9be",
       "version_major": 2,
       "version_minor": 0
      },
      "text/plain": [
       "  0%|          | 0/27 [00:00<?, ?it/s]"
      ]
     },
     "metadata": {},
     "output_type": "display_data"
    },
    {
     "data": {
      "application/vnd.jupyter.widget-view+json": {
       "model_id": "15c41028de7c4fa18faa85ce19ef94f1",
       "version_major": 2,
       "version_minor": 0
      },
      "text/plain": [
       "  0%|          | 0/27 [00:00<?, ?it/s]"
      ]
     },
     "metadata": {},
     "output_type": "display_data"
    },
    {
     "data": {
      "application/vnd.jupyter.widget-view+json": {
       "model_id": "4020925b4e6d41a6b833fbc09309edae",
       "version_major": 2,
       "version_minor": 0
      },
      "text/plain": [
       "  0%|          | 0/27 [00:00<?, ?it/s]"
      ]
     },
     "metadata": {},
     "output_type": "display_data"
    },
    {
     "data": {
      "application/vnd.jupyter.widget-view+json": {
       "model_id": "e1bd75de5d064c40b15504ddc25de133",
       "version_major": 2,
       "version_minor": 0
      },
      "text/plain": [
       "  0%|          | 0/27 [00:00<?, ?it/s]"
      ]
     },
     "metadata": {},
     "output_type": "display_data"
    },
    {
     "data": {
      "application/vnd.jupyter.widget-view+json": {
       "model_id": "2a5d6022fda44c48b843f9fa408e238f",
       "version_major": 2,
       "version_minor": 0
      },
      "text/plain": [
       "  0%|          | 0/27 [00:00<?, ?it/s]"
      ]
     },
     "metadata": {},
     "output_type": "display_data"
    },
    {
     "data": {
      "application/vnd.jupyter.widget-view+json": {
       "model_id": "4d19d1e81d5b496cb03cc857f3d86506",
       "version_major": 2,
       "version_minor": 0
      },
      "text/plain": [
       "  0%|          | 0/27 [00:00<?, ?it/s]"
      ]
     },
     "metadata": {},
     "output_type": "display_data"
    },
    {
     "data": {
      "application/vnd.jupyter.widget-view+json": {
       "model_id": "6f99f3e8c2d448128ddac675b6277591",
       "version_major": 2,
       "version_minor": 0
      },
      "text/plain": [
       "  0%|          | 0/27 [00:00<?, ?it/s]"
      ]
     },
     "metadata": {},
     "output_type": "display_data"
    },
    {
     "data": {
      "application/vnd.jupyter.widget-view+json": {
       "model_id": "4745e7579d76441d9a27725aa77f6b7b",
       "version_major": 2,
       "version_minor": 0
      },
      "text/plain": [
       "  0%|          | 0/27 [00:00<?, ?it/s]"
      ]
     },
     "metadata": {},
     "output_type": "display_data"
    },
    {
     "data": {
      "application/vnd.jupyter.widget-view+json": {
       "model_id": "f08a8e331e9046a5b531e26fb8f76b25",
       "version_major": 2,
       "version_minor": 0
      },
      "text/plain": [
       "  0%|          | 0/27 [00:00<?, ?it/s]"
      ]
     },
     "metadata": {},
     "output_type": "display_data"
    },
    {
     "data": {
      "application/vnd.jupyter.widget-view+json": {
       "model_id": "7dc4d20c3cf64721b8c9ebef02e32e0e",
       "version_major": 2,
       "version_minor": 0
      },
      "text/plain": [
       "  0%|          | 0/27 [00:00<?, ?it/s]"
      ]
     },
     "metadata": {},
     "output_type": "display_data"
    },
    {
     "data": {
      "application/vnd.jupyter.widget-view+json": {
       "model_id": "b98f00ff899a4e57afb187dd4a534a0b",
       "version_major": 2,
       "version_minor": 0
      },
      "text/plain": [
       "  0%|          | 0/27 [00:00<?, ?it/s]"
      ]
     },
     "metadata": {},
     "output_type": "display_data"
    },
    {
     "data": {
      "application/vnd.jupyter.widget-view+json": {
       "model_id": "092710e1745140b3ae83bd459704bc42",
       "version_major": 2,
       "version_minor": 0
      },
      "text/plain": [
       "  0%|          | 0/27 [00:00<?, ?it/s]"
      ]
     },
     "metadata": {},
     "output_type": "display_data"
    },
    {
     "data": {
      "application/vnd.jupyter.widget-view+json": {
       "model_id": "f8f06338f99f46c29ed41297a38bf07f",
       "version_major": 2,
       "version_minor": 0
      },
      "text/plain": [
       "  0%|          | 0/27 [00:00<?, ?it/s]"
      ]
     },
     "metadata": {},
     "output_type": "display_data"
    },
    {
     "data": {
      "application/vnd.jupyter.widget-view+json": {
       "model_id": "8ab074e62e54495fbf7434bed9eb5883",
       "version_major": 2,
       "version_minor": 0
      },
      "text/plain": [
       "  0%|          | 0/27 [00:00<?, ?it/s]"
      ]
     },
     "metadata": {},
     "output_type": "display_data"
    },
    {
     "data": {
      "application/vnd.jupyter.widget-view+json": {
       "model_id": "5178b231d58f401798d2d0ad484fad65",
       "version_major": 2,
       "version_minor": 0
      },
      "text/plain": [
       "  0%|          | 0/27 [00:00<?, ?it/s]"
      ]
     },
     "metadata": {},
     "output_type": "display_data"
    },
    {
     "data": {
      "application/vnd.jupyter.widget-view+json": {
       "model_id": "7cc2d9ccc2f944408fbd3407a77afb64",
       "version_major": 2,
       "version_minor": 0
      },
      "text/plain": [
       "  0%|          | 0/27 [00:00<?, ?it/s]"
      ]
     },
     "metadata": {},
     "output_type": "display_data"
    },
    {
     "data": {
      "application/vnd.jupyter.widget-view+json": {
       "model_id": "17387072a064439c90ffbf53e1e507fa",
       "version_major": 2,
       "version_minor": 0
      },
      "text/plain": [
       "  0%|          | 0/27 [00:00<?, ?it/s]"
      ]
     },
     "metadata": {},
     "output_type": "display_data"
    },
    {
     "data": {
      "application/vnd.jupyter.widget-view+json": {
       "model_id": "09bca7f91fdf4f9592bfc609881c931a",
       "version_major": 2,
       "version_minor": 0
      },
      "text/plain": [
       "  0%|          | 0/27 [00:00<?, ?it/s]"
      ]
     },
     "metadata": {},
     "output_type": "display_data"
    },
    {
     "data": {
      "application/vnd.jupyter.widget-view+json": {
       "model_id": "d05eaa8e941d4f81a3d564173813137e",
       "version_major": 2,
       "version_minor": 0
      },
      "text/plain": [
       "  0%|          | 0/27 [00:00<?, ?it/s]"
      ]
     },
     "metadata": {},
     "output_type": "display_data"
    },
    {
     "data": {
      "application/vnd.jupyter.widget-view+json": {
       "model_id": "3020802086234e919fe301e34482d503",
       "version_major": 2,
       "version_minor": 0
      },
      "text/plain": [
       "  0%|          | 0/27 [00:00<?, ?it/s]"
      ]
     },
     "metadata": {},
     "output_type": "display_data"
    },
    {
     "data": {
      "application/vnd.jupyter.widget-view+json": {
       "model_id": "36eaf9d91bbc418ea35abf5b900bb667",
       "version_major": 2,
       "version_minor": 0
      },
      "text/plain": [
       "  0%|          | 0/27 [00:00<?, ?it/s]"
      ]
     },
     "metadata": {},
     "output_type": "display_data"
    },
    {
     "data": {
      "application/vnd.jupyter.widget-view+json": {
       "model_id": "56c571ba5c7a4185b62bf32aeda84c3d",
       "version_major": 2,
       "version_minor": 0
      },
      "text/plain": [
       "  0%|          | 0/27 [00:00<?, ?it/s]"
      ]
     },
     "metadata": {},
     "output_type": "display_data"
    },
    {
     "data": {
      "application/vnd.jupyter.widget-view+json": {
       "model_id": "38b7979577ef455a94692092f74f1777",
       "version_major": 2,
       "version_minor": 0
      },
      "text/plain": [
       "  0%|          | 0/27 [00:00<?, ?it/s]"
      ]
     },
     "metadata": {},
     "output_type": "display_data"
    },
    {
     "data": {
      "application/vnd.jupyter.widget-view+json": {
       "model_id": "164344936b804b88bfbddfaad97c3278",
       "version_major": 2,
       "version_minor": 0
      },
      "text/plain": [
       "  0%|          | 0/27 [00:00<?, ?it/s]"
      ]
     },
     "metadata": {},
     "output_type": "display_data"
    },
    {
     "data": {
      "application/vnd.jupyter.widget-view+json": {
       "model_id": "a1f60430697b4eefb84520cf79efe385",
       "version_major": 2,
       "version_minor": 0
      },
      "text/plain": [
       "  0%|          | 0/27 [00:00<?, ?it/s]"
      ]
     },
     "metadata": {},
     "output_type": "display_data"
    },
    {
     "data": {
      "application/vnd.jupyter.widget-view+json": {
       "model_id": "4ab9043d98ad48f5998ef82ea60f6373",
       "version_major": 2,
       "version_minor": 0
      },
      "text/plain": [
       "  0%|          | 0/27 [00:00<?, ?it/s]"
      ]
     },
     "metadata": {},
     "output_type": "display_data"
    },
    {
     "data": {
      "application/vnd.jupyter.widget-view+json": {
       "model_id": "6cd5c1eee4c54d8cade4116d02d3b9a0",
       "version_major": 2,
       "version_minor": 0
      },
      "text/plain": [
       "  0%|          | 0/27 [00:00<?, ?it/s]"
      ]
     },
     "metadata": {},
     "output_type": "display_data"
    },
    {
     "data": {
      "application/vnd.jupyter.widget-view+json": {
       "model_id": "cac447cab43142c29b39143495d34e52",
       "version_major": 2,
       "version_minor": 0
      },
      "text/plain": [
       "  0%|          | 0/27 [00:00<?, ?it/s]"
      ]
     },
     "metadata": {},
     "output_type": "display_data"
    },
    {
     "data": {
      "application/vnd.jupyter.widget-view+json": {
       "model_id": "27941d10a7034402925f1086c1b063c2",
       "version_major": 2,
       "version_minor": 0
      },
      "text/plain": [
       "  0%|          | 0/27 [00:00<?, ?it/s]"
      ]
     },
     "metadata": {},
     "output_type": "display_data"
    },
    {
     "data": {
      "application/vnd.jupyter.widget-view+json": {
       "model_id": "fa106a2c6660407c8eca68c92fbda1af",
       "version_major": 2,
       "version_minor": 0
      },
      "text/plain": [
       "  0%|          | 0/27 [00:00<?, ?it/s]"
      ]
     },
     "metadata": {},
     "output_type": "display_data"
    },
    {
     "data": {
      "application/vnd.jupyter.widget-view+json": {
       "model_id": "10272f118ac8425e80ec40aa433da2b2",
       "version_major": 2,
       "version_minor": 0
      },
      "text/plain": [
       "  0%|          | 0/27 [00:00<?, ?it/s]"
      ]
     },
     "metadata": {},
     "output_type": "display_data"
    },
    {
     "data": {
      "application/vnd.jupyter.widget-view+json": {
       "model_id": "c2dc62b460c8416b9b2ecede9f019716",
       "version_major": 2,
       "version_minor": 0
      },
      "text/plain": [
       "  0%|          | 0/27 [00:00<?, ?it/s]"
      ]
     },
     "metadata": {},
     "output_type": "display_data"
    },
    {
     "data": {
      "application/vnd.jupyter.widget-view+json": {
       "model_id": "7814bc1b9a474f0eb5d4baec496efe36",
       "version_major": 2,
       "version_minor": 0
      },
      "text/plain": [
       "  0%|          | 0/27 [00:00<?, ?it/s]"
      ]
     },
     "metadata": {},
     "output_type": "display_data"
    },
    {
     "data": {
      "application/vnd.jupyter.widget-view+json": {
       "model_id": "1d6ca6d409d8435c84d4a2c0ff79644f",
       "version_major": 2,
       "version_minor": 0
      },
      "text/plain": [
       "  0%|          | 0/27 [00:00<?, ?it/s]"
      ]
     },
     "metadata": {},
     "output_type": "display_data"
    },
    {
     "data": {
      "application/vnd.jupyter.widget-view+json": {
       "model_id": "8cd57d23f2ac4cd4a12595113479d573",
       "version_major": 2,
       "version_minor": 0
      },
      "text/plain": [
       "  0%|          | 0/27 [00:00<?, ?it/s]"
      ]
     },
     "metadata": {},
     "output_type": "display_data"
    },
    {
     "data": {
      "application/vnd.jupyter.widget-view+json": {
       "model_id": "35d0d48dd221464f89fb5907eef5ac62",
       "version_major": 2,
       "version_minor": 0
      },
      "text/plain": [
       "  0%|          | 0/27 [00:00<?, ?it/s]"
      ]
     },
     "metadata": {},
     "output_type": "display_data"
    },
    {
     "data": {
      "application/vnd.jupyter.widget-view+json": {
       "model_id": "20b82113cbb3449b96bef2d975d7b40a",
       "version_major": 2,
       "version_minor": 0
      },
      "text/plain": [
       "  0%|          | 0/27 [00:00<?, ?it/s]"
      ]
     },
     "metadata": {},
     "output_type": "display_data"
    },
    {
     "data": {
      "application/vnd.jupyter.widget-view+json": {
       "model_id": "31d94a99f6a149e5996823d1c1ae2286",
       "version_major": 2,
       "version_minor": 0
      },
      "text/plain": [
       "  0%|          | 0/27 [00:00<?, ?it/s]"
      ]
     },
     "metadata": {},
     "output_type": "display_data"
    },
    {
     "data": {
      "application/vnd.jupyter.widget-view+json": {
       "model_id": "967fce150e8041d2acc719b1f70af466",
       "version_major": 2,
       "version_minor": 0
      },
      "text/plain": [
       "  0%|          | 0/27 [00:00<?, ?it/s]"
      ]
     },
     "metadata": {},
     "output_type": "display_data"
    },
    {
     "data": {
      "application/vnd.jupyter.widget-view+json": {
       "model_id": "4a5f86f90a63408197e64c5e69b8152d",
       "version_major": 2,
       "version_minor": 0
      },
      "text/plain": [
       "  0%|          | 0/27 [00:00<?, ?it/s]"
      ]
     },
     "metadata": {},
     "output_type": "display_data"
    },
    {
     "data": {
      "application/vnd.jupyter.widget-view+json": {
       "model_id": "4214a70640044f62b2a3ead3a283ceb9",
       "version_major": 2,
       "version_minor": 0
      },
      "text/plain": [
       "  0%|          | 0/27 [00:00<?, ?it/s]"
      ]
     },
     "metadata": {},
     "output_type": "display_data"
    },
    {
     "data": {
      "application/vnd.jupyter.widget-view+json": {
       "model_id": "ef5e95b399724fed835c9700005b54e3",
       "version_major": 2,
       "version_minor": 0
      },
      "text/plain": [
       "  0%|          | 0/27 [00:00<?, ?it/s]"
      ]
     },
     "metadata": {},
     "output_type": "display_data"
    },
    {
     "data": {
      "application/vnd.jupyter.widget-view+json": {
       "model_id": "6a5235f910614560add0beab2d8c4f41",
       "version_major": 2,
       "version_minor": 0
      },
      "text/plain": [
       "  0%|          | 0/27 [00:00<?, ?it/s]"
      ]
     },
     "metadata": {},
     "output_type": "display_data"
    },
    {
     "data": {
      "application/vnd.jupyter.widget-view+json": {
       "model_id": "01bab7f1d7a74b7183819bfd633c9077",
       "version_major": 2,
       "version_minor": 0
      },
      "text/plain": [
       "  0%|          | 0/27 [00:00<?, ?it/s]"
      ]
     },
     "metadata": {},
     "output_type": "display_data"
    },
    {
     "data": {
      "application/vnd.jupyter.widget-view+json": {
       "model_id": "ad74837520de4ef9ba9b95f597b3879a",
       "version_major": 2,
       "version_minor": 0
      },
      "text/plain": [
       "  0%|          | 0/27 [00:00<?, ?it/s]"
      ]
     },
     "metadata": {},
     "output_type": "display_data"
    },
    {
     "data": {
      "application/vnd.jupyter.widget-view+json": {
       "model_id": "45da36cc1f144e2887882237e8a15c50",
       "version_major": 2,
       "version_minor": 0
      },
      "text/plain": [
       "  0%|          | 0/27 [00:00<?, ?it/s]"
      ]
     },
     "metadata": {},
     "output_type": "display_data"
    },
    {
     "data": {
      "application/vnd.jupyter.widget-view+json": {
       "model_id": "64735e942d5c4d888db168ca46d7e7eb",
       "version_major": 2,
       "version_minor": 0
      },
      "text/plain": [
       "  0%|          | 0/27 [00:00<?, ?it/s]"
      ]
     },
     "metadata": {},
     "output_type": "display_data"
    },
    {
     "data": {
      "application/vnd.jupyter.widget-view+json": {
       "model_id": "167fe56d44b544c0a719de5b23fa9dad",
       "version_major": 2,
       "version_minor": 0
      },
      "text/plain": [
       "  0%|          | 0/27 [00:00<?, ?it/s]"
      ]
     },
     "metadata": {},
     "output_type": "display_data"
    },
    {
     "data": {
      "application/vnd.jupyter.widget-view+json": {
       "model_id": "af85cd0b3aa7481eb3ccbcab9a55e9f9",
       "version_major": 2,
       "version_minor": 0
      },
      "text/plain": [
       "  0%|          | 0/27 [00:00<?, ?it/s]"
      ]
     },
     "metadata": {},
     "output_type": "display_data"
    },
    {
     "data": {
      "application/vnd.jupyter.widget-view+json": {
       "model_id": "669087e8333a4a7a9c93665a228bf3b8",
       "version_major": 2,
       "version_minor": 0
      },
      "text/plain": [
       "  0%|          | 0/27 [00:00<?, ?it/s]"
      ]
     },
     "metadata": {},
     "output_type": "display_data"
    },
    {
     "data": {
      "application/vnd.jupyter.widget-view+json": {
       "model_id": "6c504a1711044df3ad8f081f16036a27",
       "version_major": 2,
       "version_minor": 0
      },
      "text/plain": [
       "  0%|          | 0/27 [00:00<?, ?it/s]"
      ]
     },
     "metadata": {},
     "output_type": "display_data"
    },
    {
     "data": {
      "application/vnd.jupyter.widget-view+json": {
       "model_id": "819ecdbbd56d432197057c07de2504c2",
       "version_major": 2,
       "version_minor": 0
      },
      "text/plain": [
       "  0%|          | 0/27 [00:00<?, ?it/s]"
      ]
     },
     "metadata": {},
     "output_type": "display_data"
    },
    {
     "data": {
      "application/vnd.jupyter.widget-view+json": {
       "model_id": "7bd08920a0cf4191a1090745da49e1ed",
       "version_major": 2,
       "version_minor": 0
      },
      "text/plain": [
       "  0%|          | 0/27 [00:00<?, ?it/s]"
      ]
     },
     "metadata": {},
     "output_type": "display_data"
    },
    {
     "data": {
      "application/vnd.jupyter.widget-view+json": {
       "model_id": "176c20059ae441639c468a6430bf0b9e",
       "version_major": 2,
       "version_minor": 0
      },
      "text/plain": [
       "  0%|          | 0/27 [00:00<?, ?it/s]"
      ]
     },
     "metadata": {},
     "output_type": "display_data"
    },
    {
     "data": {
      "application/vnd.jupyter.widget-view+json": {
       "model_id": "453a83c6b4584a339c70585b27480896",
       "version_major": 2,
       "version_minor": 0
      },
      "text/plain": [
       "  0%|          | 0/27 [00:00<?, ?it/s]"
      ]
     },
     "metadata": {},
     "output_type": "display_data"
    },
    {
     "data": {
      "application/vnd.jupyter.widget-view+json": {
       "model_id": "0455d9a7074949698d8c9c66b6b2f699",
       "version_major": 2,
       "version_minor": 0
      },
      "text/plain": [
       "  0%|          | 0/27 [00:00<?, ?it/s]"
      ]
     },
     "metadata": {},
     "output_type": "display_data"
    },
    {
     "data": {
      "application/vnd.jupyter.widget-view+json": {
       "model_id": "20204a50a32c40f08441aadc0115fe0b",
       "version_major": 2,
       "version_minor": 0
      },
      "text/plain": [
       "  0%|          | 0/27 [00:00<?, ?it/s]"
      ]
     },
     "metadata": {},
     "output_type": "display_data"
    },
    {
     "data": {
      "application/vnd.jupyter.widget-view+json": {
       "model_id": "f416ee91f63d4c4a9ecc91c47e20249a",
       "version_major": 2,
       "version_minor": 0
      },
      "text/plain": [
       "  0%|          | 0/27 [00:00<?, ?it/s]"
      ]
     },
     "metadata": {},
     "output_type": "display_data"
    },
    {
     "data": {
      "application/vnd.jupyter.widget-view+json": {
       "model_id": "0c1e3f384edd460a93921c4976aa4088",
       "version_major": 2,
       "version_minor": 0
      },
      "text/plain": [
       "  0%|          | 0/27 [00:00<?, ?it/s]"
      ]
     },
     "metadata": {},
     "output_type": "display_data"
    },
    {
     "data": {
      "application/vnd.jupyter.widget-view+json": {
       "model_id": "d6d19ee5cb1746f7b570ca3e64132529",
       "version_major": 2,
       "version_minor": 0
      },
      "text/plain": [
       "  0%|          | 0/27 [00:00<?, ?it/s]"
      ]
     },
     "metadata": {},
     "output_type": "display_data"
    },
    {
     "data": {
      "application/vnd.jupyter.widget-view+json": {
       "model_id": "fb5b03b774de4b14ba088812b1dd8e9a",
       "version_major": 2,
       "version_minor": 0
      },
      "text/plain": [
       "  0%|          | 0/27 [00:00<?, ?it/s]"
      ]
     },
     "metadata": {},
     "output_type": "display_data"
    },
    {
     "data": {
      "application/vnd.jupyter.widget-view+json": {
       "model_id": "183c2b85d4494d858a6bd303226f12e7",
       "version_major": 2,
       "version_minor": 0
      },
      "text/plain": [
       "  0%|          | 0/27 [00:00<?, ?it/s]"
      ]
     },
     "metadata": {},
     "output_type": "display_data"
    },
    {
     "data": {
      "application/vnd.jupyter.widget-view+json": {
       "model_id": "70660b12a20f4540a6c6f6f4f903a72e",
       "version_major": 2,
       "version_minor": 0
      },
      "text/plain": [
       "  0%|          | 0/27 [00:00<?, ?it/s]"
      ]
     },
     "metadata": {},
     "output_type": "display_data"
    },
    {
     "data": {
      "application/vnd.jupyter.widget-view+json": {
       "model_id": "e6d022df73ce4eb3a3f69856691eae57",
       "version_major": 2,
       "version_minor": 0
      },
      "text/plain": [
       "  0%|          | 0/27 [00:00<?, ?it/s]"
      ]
     },
     "metadata": {},
     "output_type": "display_data"
    },
    {
     "data": {
      "application/vnd.jupyter.widget-view+json": {
       "model_id": "cb83bdc0217b495d9b828cfce1a2c34c",
       "version_major": 2,
       "version_minor": 0
      },
      "text/plain": [
       "  0%|          | 0/27 [00:00<?, ?it/s]"
      ]
     },
     "metadata": {},
     "output_type": "display_data"
    },
    {
     "data": {
      "application/vnd.jupyter.widget-view+json": {
       "model_id": "d3944afc47314705bd26199c7bc5042a",
       "version_major": 2,
       "version_minor": 0
      },
      "text/plain": [
       "  0%|          | 0/27 [00:00<?, ?it/s]"
      ]
     },
     "metadata": {},
     "output_type": "display_data"
    },
    {
     "data": {
      "application/vnd.jupyter.widget-view+json": {
       "model_id": "4f36fd1ef3f8496aaf1cc2ba2fb78afb",
       "version_major": 2,
       "version_minor": 0
      },
      "text/plain": [
       "  0%|          | 0/27 [00:00<?, ?it/s]"
      ]
     },
     "metadata": {},
     "output_type": "display_data"
    },
    {
     "data": {
      "application/vnd.jupyter.widget-view+json": {
       "model_id": "700e3bf9a81b4ebabdd824ec3a712524",
       "version_major": 2,
       "version_minor": 0
      },
      "text/plain": [
       "  0%|          | 0/27 [00:00<?, ?it/s]"
      ]
     },
     "metadata": {},
     "output_type": "display_data"
    },
    {
     "data": {
      "application/vnd.jupyter.widget-view+json": {
       "model_id": "c2652a355bfd48369d12dfb1b87f9392",
       "version_major": 2,
       "version_minor": 0
      },
      "text/plain": [
       "  0%|          | 0/27 [00:00<?, ?it/s]"
      ]
     },
     "metadata": {},
     "output_type": "display_data"
    },
    {
     "data": {
      "application/vnd.jupyter.widget-view+json": {
       "model_id": "fe40df2b22ed43d991a3c339108bc40b",
       "version_major": 2,
       "version_minor": 0
      },
      "text/plain": [
       "  0%|          | 0/27 [00:00<?, ?it/s]"
      ]
     },
     "metadata": {},
     "output_type": "display_data"
    },
    {
     "data": {
      "application/vnd.jupyter.widget-view+json": {
       "model_id": "f62bd3fdfbe1489daaefb8a08e3528b9",
       "version_major": 2,
       "version_minor": 0
      },
      "text/plain": [
       "  0%|          | 0/27 [00:00<?, ?it/s]"
      ]
     },
     "metadata": {},
     "output_type": "display_data"
    },
    {
     "data": {
      "application/vnd.jupyter.widget-view+json": {
       "model_id": "cd83d28393644048a77dde605d6e1b0d",
       "version_major": 2,
       "version_minor": 0
      },
      "text/plain": [
       "  0%|          | 0/27 [00:00<?, ?it/s]"
      ]
     },
     "metadata": {},
     "output_type": "display_data"
    },
    {
     "data": {
      "application/vnd.jupyter.widget-view+json": {
       "model_id": "3365b82b68834b97b3e385ac8ea38ca4",
       "version_major": 2,
       "version_minor": 0
      },
      "text/plain": [
       "  0%|          | 0/27 [00:00<?, ?it/s]"
      ]
     },
     "metadata": {},
     "output_type": "display_data"
    },
    {
     "data": {
      "application/vnd.jupyter.widget-view+json": {
       "model_id": "91cf7e5dd71f4a2cb0a1ec0cd660a1f3",
       "version_major": 2,
       "version_minor": 0
      },
      "text/plain": [
       "  0%|          | 0/27 [00:00<?, ?it/s]"
      ]
     },
     "metadata": {},
     "output_type": "display_data"
    },
    {
     "data": {
      "application/vnd.jupyter.widget-view+json": {
       "model_id": "fd6979dd50c74397a1957d5efefbc4ba",
       "version_major": 2,
       "version_minor": 0
      },
      "text/plain": [
       "  0%|          | 0/27 [00:00<?, ?it/s]"
      ]
     },
     "metadata": {},
     "output_type": "display_data"
    },
    {
     "data": {
      "application/vnd.jupyter.widget-view+json": {
       "model_id": "e5bf06e9084448c383390714aa2ed02a",
       "version_major": 2,
       "version_minor": 0
      },
      "text/plain": [
       "  0%|          | 0/27 [00:00<?, ?it/s]"
      ]
     },
     "metadata": {},
     "output_type": "display_data"
    },
    {
     "data": {
      "application/vnd.jupyter.widget-view+json": {
       "model_id": "b7cebe4aa3b642e4900eff26d0e80a97",
       "version_major": 2,
       "version_minor": 0
      },
      "text/plain": [
       "  0%|          | 0/27 [00:00<?, ?it/s]"
      ]
     },
     "metadata": {},
     "output_type": "display_data"
    },
    {
     "data": {
      "application/vnd.jupyter.widget-view+json": {
       "model_id": "2d370d3318e546cfa8c787fce0895114",
       "version_major": 2,
       "version_minor": 0
      },
      "text/plain": [
       "  0%|          | 0/27 [00:00<?, ?it/s]"
      ]
     },
     "metadata": {},
     "output_type": "display_data"
    },
    {
     "data": {
      "application/vnd.jupyter.widget-view+json": {
       "model_id": "19aa639d633346608b3c20642d662d2c",
       "version_major": 2,
       "version_minor": 0
      },
      "text/plain": [
       "  0%|          | 0/27 [00:00<?, ?it/s]"
      ]
     },
     "metadata": {},
     "output_type": "display_data"
    },
    {
     "data": {
      "application/vnd.jupyter.widget-view+json": {
       "model_id": "a7528e8d665f410a81852e605fef2c20",
       "version_major": 2,
       "version_minor": 0
      },
      "text/plain": [
       "  0%|          | 0/27 [00:00<?, ?it/s]"
      ]
     },
     "metadata": {},
     "output_type": "display_data"
    },
    {
     "data": {
      "application/vnd.jupyter.widget-view+json": {
       "model_id": "75f8b431902b458e96456e9d2c59f394",
       "version_major": 2,
       "version_minor": 0
      },
      "text/plain": [
       "  0%|          | 0/27 [00:00<?, ?it/s]"
      ]
     },
     "metadata": {},
     "output_type": "display_data"
    },
    {
     "data": {
      "application/vnd.jupyter.widget-view+json": {
       "model_id": "5d51f182d31d4cc5b438b302476a8fba",
       "version_major": 2,
       "version_minor": 0
      },
      "text/plain": [
       "  0%|          | 0/27 [00:00<?, ?it/s]"
      ]
     },
     "metadata": {},
     "output_type": "display_data"
    },
    {
     "data": {
      "application/vnd.jupyter.widget-view+json": {
       "model_id": "8d31f5e6ded740608439e1d8b55cb467",
       "version_major": 2,
       "version_minor": 0
      },
      "text/plain": [
       "  0%|          | 0/27 [00:00<?, ?it/s]"
      ]
     },
     "metadata": {},
     "output_type": "display_data"
    },
    {
     "data": {
      "application/vnd.jupyter.widget-view+json": {
       "model_id": "b45565b6c2f34f2eba9c553c92786c86",
       "version_major": 2,
       "version_minor": 0
      },
      "text/plain": [
       "  0%|          | 0/27 [00:00<?, ?it/s]"
      ]
     },
     "metadata": {},
     "output_type": "display_data"
    },
    {
     "data": {
      "application/vnd.jupyter.widget-view+json": {
       "model_id": "8ebd118429e0414aa6cf4b86767c4f5e",
       "version_major": 2,
       "version_minor": 0
      },
      "text/plain": [
       "  0%|          | 0/27 [00:00<?, ?it/s]"
      ]
     },
     "metadata": {},
     "output_type": "display_data"
    },
    {
     "data": {
      "application/vnd.jupyter.widget-view+json": {
       "model_id": "62e5563969974a31b74facbe64a8f692",
       "version_major": 2,
       "version_minor": 0
      },
      "text/plain": [
       "  0%|          | 0/27 [00:00<?, ?it/s]"
      ]
     },
     "metadata": {},
     "output_type": "display_data"
    },
    {
     "data": {
      "application/vnd.jupyter.widget-view+json": {
       "model_id": "9cdcd09675cd454c9aeb03a6b3c3387b",
       "version_major": 2,
       "version_minor": 0
      },
      "text/plain": [
       "  0%|          | 0/27 [00:00<?, ?it/s]"
      ]
     },
     "metadata": {},
     "output_type": "display_data"
    },
    {
     "data": {
      "application/vnd.jupyter.widget-view+json": {
       "model_id": "36bfecb39795495fa29e3c10b2acde31",
       "version_major": 2,
       "version_minor": 0
      },
      "text/plain": [
       "  0%|          | 0/27 [00:00<?, ?it/s]"
      ]
     },
     "metadata": {},
     "output_type": "display_data"
    },
    {
     "data": {
      "application/vnd.jupyter.widget-view+json": {
       "model_id": "5b10a700e3a44260819a12702b8c6f4c",
       "version_major": 2,
       "version_minor": 0
      },
      "text/plain": [
       "  0%|          | 0/27 [00:00<?, ?it/s]"
      ]
     },
     "metadata": {},
     "output_type": "display_data"
    },
    {
     "data": {
      "application/vnd.jupyter.widget-view+json": {
       "model_id": "7ac41bff9ed44831beedb4761b36f8c1",
       "version_major": 2,
       "version_minor": 0
      },
      "text/plain": [
       "  0%|          | 0/27 [00:00<?, ?it/s]"
      ]
     },
     "metadata": {},
     "output_type": "display_data"
    },
    {
     "data": {
      "application/vnd.jupyter.widget-view+json": {
       "model_id": "da8c7be0509e4a4eb869a57f5ccdda0b",
       "version_major": 2,
       "version_minor": 0
      },
      "text/plain": [
       "  0%|          | 0/27 [00:00<?, ?it/s]"
      ]
     },
     "metadata": {},
     "output_type": "display_data"
    },
    {
     "data": {
      "application/vnd.jupyter.widget-view+json": {
       "model_id": "3e0359529e264003a00ceba4563fe1c1",
       "version_major": 2,
       "version_minor": 0
      },
      "text/plain": [
       "  0%|          | 0/27 [00:00<?, ?it/s]"
      ]
     },
     "metadata": {},
     "output_type": "display_data"
    },
    {
     "data": {
      "application/vnd.jupyter.widget-view+json": {
       "model_id": "63e3da2733d94581b106e79895f56122",
       "version_major": 2,
       "version_minor": 0
      },
      "text/plain": [
       "  0%|          | 0/27 [00:00<?, ?it/s]"
      ]
     },
     "metadata": {},
     "output_type": "display_data"
    }
   ],
   "source": [
    "from pgmpy.inference import ApproxInference\n",
    "import numpy\n",
    "approx_time = []\n",
    "sample_list = []\n",
    "error_list = []\n",
    "for sample in range(100, 10001, 100):\n",
    "    approx_infer = ApproxInference(insurance_model)\n",
    "    before = timeit.default_timer()\n",
    "    new_q = approx_infer.query(variables=[\"PropCost\"], n_samples=sample)\n",
    "    after = timeit.default_timer()\n",
    "    time = after - before\n",
    "    approx_time.append(time)\n",
    "    sample_list.append(sample)\n",
    "    new_prob = new_q.values\n",
    "    #new_prob = numpy.array([temp[3], temp[2], temp[0], temp[1]])\n",
    "    error = numpy.linalg.norm(new_prob-prob)\n",
    "    error_list.append(error)"
   ]
  },
  {
   "cell_type": "code",
   "execution_count": 116,
   "id": "1751ce59",
   "metadata": {},
   "outputs": [
    {
     "data": {
      "image/png": "[encoded data removed]",
      "text/plain": [
       "<Figure size 432x288 with 1 Axes>"
      ]
     },
     "metadata": {
      "needs_background": "light"
     },
     "output_type": "display_data"
    },
    {
     "data": {
      "image/png": "[encoded data removed]",
      "text/plain": [
       "<Figure size 432x288 with 1 Axes>"
      ]
     },
     "metadata": {
      "needs_background": "light"
     },
     "output_type": "display_data"
    }
   ],
   "source": [
    "#plot 1\n",
    "plt.plot(sample_list, approx_time)\n",
    "plt.xlabel(\"sample\")\n",
    "plt.ylabel(\"time\")\n",
    "plt.show()\n",
    "#plot 2\n",
    "plt.plot (sample_list, error_list)\n",
    "plt.xlabel(\"sample\")\n",
    "plt.ylabel(\"error number\")\n",
    "plt.show()"
   ]
  },
  {
   "cell_type": "markdown",
   "id": "eb427f9b",
   "metadata": {},
   "source": [
    "(c)"
   ]
  },
  {
   "cell_type": "code",
   "execution_count": 80,
   "id": "17c96081",
   "metadata": {},
   "outputs": [],
   "source": [
    "from pgmpy.models import BayesianNetwork\n",
    "from pgmpy.factors.discrete import TabularCPD\n",
    "from pgmpy.sampling import BayesianModelSampling\n",
    "from pgmpy.factors.discrete import State"
   ]
  },
  {
   "cell_type": "code",
   "execution_count": 87,
   "id": "5ead4d47",
   "metadata": {},
   "outputs": [],
   "source": [
    "baysian_infer = BayesianModelSampling(insurance_model)\n",
    "evidence = [State('Age','Adult'), State('DrivHist','Zero'), State('VehicleYear','Current'), State('ThisCarDam','None'), State('MakeModel','Luxury'), State('HomeBase','City'), State('Cushioning','Good'), State('Airbag','True'), State('AntiTheft','True')]"
   ]
  },
  {
   "cell_type": "markdown",
   "id": "1babf43a",
   "metadata": {},
   "source": [
    "rejection sampling"
   ]
  },
  {
   "cell_type": "code",
   "execution_count": 88,
   "id": "d0311b7b",
   "metadata": {},
   "outputs": [
    {
     "data": {
      "application/vnd.jupyter.widget-view+json": {
       "model_id": "d3da0db59b1542f1a396b819650dabce",
       "version_major": 2,
       "version_minor": 0
      },
      "text/plain": [
       "  0%|          | 0/100 [00:00<?, ?it/s]"
      ]
     },
     "metadata": {},
     "output_type": "display_data"
    },
    {
     "data": {
      "application/vnd.jupyter.widget-view+json": {
       "model_id": "f144aa8fb2b04b6bbadb040ba1f5aa55",
       "version_major": 2,
       "version_minor": 0
      },
      "text/plain": [
       "  0%|          | 0/100 [00:00<?, ?it/s]"
      ]
     },
     "metadata": {},
     "output_type": "display_data"
    },
    {
     "data": {
      "application/vnd.jupyter.widget-view+json": {
       "model_id": "7289fef9b15f4359b10540504ac52bae",
       "version_major": 2,
       "version_minor": 0
      },
      "text/plain": [
       "  0%|          | 0/100 [00:00<?, ?it/s]"
      ]
     },
     "metadata": {},
     "output_type": "display_data"
    },
    {
     "data": {
      "application/vnd.jupyter.widget-view+json": {
       "model_id": "61e6aae3f68b441db52a3012af417eee",
       "version_major": 2,
       "version_minor": 0
      },
      "text/plain": [
       "  0%|          | 0/100 [00:00<?, ?it/s]"
      ]
     },
     "metadata": {},
     "output_type": "display_data"
    },
    {
     "data": {
      "application/vnd.jupyter.widget-view+json": {
       "model_id": "1707eea2a5ca4b7a94b9738385b60272",
       "version_major": 2,
       "version_minor": 0
      },
      "text/plain": [
       "  0%|          | 0/100 [00:00<?, ?it/s]"
      ]
     },
     "metadata": {},
     "output_type": "display_data"
    },
    {
     "data": {
      "application/vnd.jupyter.widget-view+json": {
       "model_id": "cc0f9e4cd73347b7bd2630afa231b5a9",
       "version_major": 2,
       "version_minor": 0
      },
      "text/plain": [
       "  0%|          | 0/100 [00:00<?, ?it/s]"
      ]
     },
     "metadata": {},
     "output_type": "display_data"
    },
    {
     "data": {
      "application/vnd.jupyter.widget-view+json": {
       "model_id": "522fd2100b734d84ac577f3b8d4e4cc8",
       "version_major": 2,
       "version_minor": 0
      },
      "text/plain": [
       "  0%|          | 0/100 [00:00<?, ?it/s]"
      ]
     },
     "metadata": {},
     "output_type": "display_data"
    },
    {
     "data": {
      "application/vnd.jupyter.widget-view+json": {
       "model_id": "751d573147e34d0e96c861a74ede119b",
       "version_major": 2,
       "version_minor": 0
      },
      "text/plain": [
       "  0%|          | 0/100 [00:00<?, ?it/s]"
      ]
     },
     "metadata": {},
     "output_type": "display_data"
    },
    {
     "data": {
      "application/vnd.jupyter.widget-view+json": {
       "model_id": "b332a007043f48da85b4b0115f465983",
       "version_major": 2,
       "version_minor": 0
      },
      "text/plain": [
       "  0%|          | 0/100 [00:00<?, ?it/s]"
      ]
     },
     "metadata": {},
     "output_type": "display_data"
    }
   ],
   "source": [
    "rej_time = []\n",
    "for i in range(1,10):\n",
    "    before = timeit.default_timer()\n",
    "    rej_q = baysian_infer.rejection_sample(evidence=evidence[:i], size=100)\n",
    "    after = timeit.default_timer()\n",
    "    rej_time.append(after - before)"
   ]
  },
  {
   "cell_type": "code",
   "execution_count": 89,
   "id": "9d768d46",
   "metadata": {},
   "outputs": [
    {
     "data": {
      "text/plain": [
       "Text(0, 0.5, 'rejection time')"
      ]
     },
     "execution_count": 89,
     "metadata": {},
     "output_type": "execute_result"
    },
    {
     "data": {
      "image/png": "[encoded data removed]",
      "text/plain": [
       "<Figure size 432x288 with 1 Axes>"
      ]
     },
     "metadata": {
      "needs_background": "light"
     },
     "output_type": "display_data"
    }
   ],
   "source": [
    "plt.plot(range(1, 10), rej_time)\n",
    "plt.xlabel('evidence number')\n",
    "plt.ylabel('rejection time')"
   ]
  },
  {
   "cell_type": "markdown",
   "id": "0ae09065",
   "metadata": {},
   "source": [
    "likelihood weighting"
   ]
  },
  {
   "cell_type": "code",
   "execution_count": 113,
   "id": "3697bf4e",
   "metadata": {},
   "outputs": [
    {
     "data": {
      "application/vnd.jupyter.widget-view+json": {
       "model_id": "92beef83f2af4a088743139f840a5c85",
       "version_major": 2,
       "version_minor": 0
      },
      "text/plain": [
       "  0%|          | 0/27 [00:00<?, ?it/s]"
      ]
     },
     "metadata": {},
     "output_type": "display_data"
    },
    {
     "data": {
      "application/vnd.jupyter.widget-view+json": {
       "model_id": "ba1130d8091c4281a73ff015f1701404",
       "version_major": 2,
       "version_minor": 0
      },
      "text/plain": [
       "  0%|          | 0/27 [00:00<?, ?it/s]"
      ]
     },
     "metadata": {},
     "output_type": "display_data"
    },
    {
     "data": {
      "application/vnd.jupyter.widget-view+json": {
       "model_id": "12e6985f364c4d328eb9f4a889d112f2",
       "version_major": 2,
       "version_minor": 0
      },
      "text/plain": [
       "  0%|          | 0/27 [00:00<?, ?it/s]"
      ]
     },
     "metadata": {},
     "output_type": "display_data"
    },
    {
     "data": {
      "application/vnd.jupyter.widget-view+json": {
       "model_id": "45a0a8f9048c45388c5691a964e55a05",
       "version_major": 2,
       "version_minor": 0
      },
      "text/plain": [
       "  0%|          | 0/27 [00:00<?, ?it/s]"
      ]
     },
     "metadata": {},
     "output_type": "display_data"
    },
    {
     "data": {
      "application/vnd.jupyter.widget-view+json": {
       "model_id": "33ac3e3ad2f94d96ad11c0b776e8e7db",
       "version_major": 2,
       "version_minor": 0
      },
      "text/plain": [
       "  0%|          | 0/27 [00:00<?, ?it/s]"
      ]
     },
     "metadata": {},
     "output_type": "display_data"
    },
    {
     "data": {
      "application/vnd.jupyter.widget-view+json": {
       "model_id": "ffa5b27d390f4f84853711c39a54f473",
       "version_major": 2,
       "version_minor": 0
      },
      "text/plain": [
       "  0%|          | 0/27 [00:00<?, ?it/s]"
      ]
     },
     "metadata": {},
     "output_type": "display_data"
    },
    {
     "data": {
      "application/vnd.jupyter.widget-view+json": {
       "model_id": "e415e4b2a8104caeb3c21326eb256d86",
       "version_major": 2,
       "version_minor": 0
      },
      "text/plain": [
       "  0%|          | 0/27 [00:00<?, ?it/s]"
      ]
     },
     "metadata": {},
     "output_type": "display_data"
    },
    {
     "data": {
      "application/vnd.jupyter.widget-view+json": {
       "model_id": "2946e35efcb7418cb98f36069b39418f",
       "version_major": 2,
       "version_minor": 0
      },
      "text/plain": [
       "  0%|          | 0/27 [00:00<?, ?it/s]"
      ]
     },
     "metadata": {},
     "output_type": "display_data"
    },
    {
     "data": {
      "application/vnd.jupyter.widget-view+json": {
       "model_id": "90e7e3806202402a8ab3f02616502714",
       "version_major": 2,
       "version_minor": 0
      },
      "text/plain": [
       "  0%|          | 0/27 [00:00<?, ?it/s]"
      ]
     },
     "metadata": {},
     "output_type": "display_data"
    }
   ],
   "source": [
    "likelihood_time = []\n",
    "weight = []\n",
    "for i in range(1,10):\n",
    "    before = timeit.default_timer()\n",
    "    likelihood_q = baysian_infer.likelihood_weighted_sample(evidence=evidence[:i], size=100)\n",
    "    after = timeit.default_timer()\n",
    "    likelihood_time.append(after - before)\n",
    "    weight.append(likelihood_q._weight.mean())"
   ]
  },
  {
   "cell_type": "code",
   "execution_count": 114,
   "id": "c657a790",
   "metadata": {},
   "outputs": [
    {
     "data": {
      "text/plain": [
       "Text(0, 0.5, 'likelihood time')"
      ]
     },
     "execution_count": 114,
     "metadata": {},
     "output_type": "execute_result"
    },
    {
     "data": {
      "image/png": "[encoded data removed]",
      "text/plain": [
       "<Figure size 432x288 with 1 Axes>"
      ]
     },
     "metadata": {
      "needs_background": "light"
     },
     "output_type": "display_data"
    }
   ],
   "source": [
    "plt.plot(range(1, 10), likelihood_time)\n",
    "plt.xlabel('evidence number')\n",
    "plt.ylabel('likelihood time')"
   ]
  },
  {
   "cell_type": "code",
   "execution_count": 94,
   "id": "c7473339",
   "metadata": {},
   "outputs": [
    {
     "data": {
      "text/plain": [
       "Text(0, 0.5, 'average sample weight')"
      ]
     },
     "execution_count": 94,
     "metadata": {},
     "output_type": "execute_result"
    },
    {
     "data": {
      "image/png": "[encoded data removed]",
      "text/plain": [
       "<Figure size 432x288 with 1 Axes>"
      ]
     },
     "metadata": {
      "needs_background": "light"
     },
     "output_type": "display_data"
    }
   ],
   "source": [
    "plt.plot(range(1, 10), weight)\n",
    "plt.xlabel('evidence number')\n",
    "plt.ylabel('average sample weight')"
   ]
  },
  {
   "cell_type": "markdown",
   "id": "150875c4",
   "metadata": {},
   "source": [
    "4.3"
   ]
  },
  {
   "cell_type": "code",
   "execution_count": 106,
   "id": "57fcde5d",
   "metadata": {},
   "outputs": [],
   "source": [
    "import pandas as pd\n",
    "from pgmpy.estimators import MaximumLikelihoodEstimator\n",
    "from pgmpy.estimators import ExpectationMaximization as EM"
   ]
  },
  {
   "cell_type": "code",
   "execution_count": 101,
   "id": "808c0231",
   "metadata": {},
   "outputs": [],
   "source": [
    "partial = pd.read_csv(\"data/partial_data.csv\")\n",
    "full = pd.read_csv(\"data/full_data.csv\")"
   ]
  },
  {
   "cell_type": "code",
   "execution_count": 105,
   "id": "e5370f72",
   "metadata": {},
   "outputs": [
    {
     "name": "stdout",
     "output_type": "stream",
     "text": [
      "+--------------+-------+\n",
      "| tampering(0) | 0.986 |\n",
      "+--------------+-------+\n",
      "| tampering(1) | 0.014 |\n",
      "+--------------+-------+\n",
      "+-----------+--------------+--------------+--------------+--------------+\n",
      "| fire      | fire(0)      | fire(0)      | fire(1)      | fire(1)      |\n",
      "+-----------+--------------+--------------+--------------+--------------+\n",
      "| tampering | tampering(0) | tampering(1) | tampering(0) | tampering(1) |\n",
      "+-----------+--------------+--------------+--------------+--------------+\n",
      "| alarm(0)  | 1.0          | 0.0          | 0.0          | 0.5          |\n",
      "+-----------+--------------+--------------+--------------+--------------+\n",
      "| alarm(1)  | 0.0          | 1.0          | 1.0          | 0.5          |\n",
      "+-----------+--------------+--------------+--------------+--------------+\n",
      "+------------+----------+----------+\n",
      "| alarm      | alarm(0) | alarm(1) |\n",
      "+------------+----------+----------+\n",
      "| leaving(0) | 1.0      | 0.16     |\n",
      "+------------+----------+----------+\n",
      "| leaving(1) | 0.0      | 0.84     |\n",
      "+------------+----------+----------+\n",
      "+-----------+----------------------+---------------------+\n",
      "| leaving   | leaving(0)           | leaving(1)          |\n",
      "+-----------+----------------------+---------------------+\n",
      "| report(0) | 0.9877425944841676   | 0.23809523809523808 |\n",
      "+-----------+----------------------+---------------------+\n",
      "| report(1) | 0.012257405515832482 | 0.7619047619047619  |\n",
      "+-----------+----------------------+---------------------+\n",
      "+---------+-------+\n",
      "| fire(0) | 0.989 |\n",
      "+---------+-------+\n",
      "| fire(1) | 0.011 |\n",
      "+---------+-------+\n",
      "+----------+----------------------+---------+\n",
      "| fire     | fire(0)              | fire(1) |\n",
      "+----------+----------------------+---------+\n",
      "| smoke(0) | 0.9949443882709808   | 0.0     |\n",
      "+----------+----------------------+---------+\n",
      "| smoke(1) | 0.005055611729019211 | 1.0     |\n",
      "+----------+----------------------+---------+\n"
     ]
    }
   ],
   "source": [
    "model = BayesianNetwork([(\"tampering\",\"alarm\"),(\"alarm\",\"leaving\"),(\"leaving\",\"report\"),(\"fire\", \"alarm\"),(\"fire\",\"smoke\")])\n",
    "maximum_likelihood = MaximumLikelihoodEstimator(model=model, data=full)\n",
    "for node in model.nodes():\n",
    "    print(maximum_likelihood.estimate_cpd(node=node))"
   ]
  },
  {
   "cell_type": "code",
   "execution_count": 112,
   "id": "26fba08e",
   "metadata": {},
   "outputs": [
    {
     "data": {
      "application/vnd.jupyter.widget-view+json": {
       "model_id": "f4983089dfc246e0b865aaf6b6720030",
       "version_major": 2,
       "version_minor": 0
      },
      "text/plain": [
       "  0%|          | 0/100 [00:00<?, ?it/s]"
      ]
     },
     "metadata": {},
     "output_type": "display_data"
    },
    {
     "name": "stdout",
     "output_type": "stream",
     "text": [
      "+--------------+-----------+\n",
      "| tampering(0) | 0.97866   |\n",
      "+--------------+-----------+\n",
      "| tampering(1) | 0.0213405 |\n",
      "+--------------+-----------+\n",
      "+-----------+--------------------+-----+--------------------+\n",
      "| tampering | tampering(0)       | ... | tampering(1)       |\n",
      "+-----------+--------------------+-----+--------------------+\n",
      "| fire      | fire(0)            | ... | fire(1)            |\n",
      "+-----------+--------------------+-----+--------------------+\n",
      "| alarm(0)  | 0.5408455932315135 | ... | 0.4819030004765702 |\n",
      "+-----------+--------------------+-----+--------------------+\n",
      "| alarm(1)  | 0.4591544067684865 | ... | 0.5180969995234299 |\n",
      "+-----------+--------------------+-----+--------------------+\n",
      "+------------+---------------------+---------------------+\n",
      "| alarm      | alarm(0)            | alarm(1)            |\n",
      "+------------+---------------------+---------------------+\n",
      "| leaving(0) | 0.23222201262283781 | 0.5093696708111144  |\n",
      "+------------+---------------------+---------------------+\n",
      "| leaving(1) | 0.7677779873771621  | 0.49063032918888566 |\n",
      "+------------+---------------------+---------------------+\n",
      "+-----------+--------------------+---------------------+\n",
      "| leaving   | leaving(0)         | leaving(1)          |\n",
      "+-----------+--------------------+---------------------+\n",
      "| report(0) | 0.6010966116050093 | 0.07536933190516959 |\n",
      "+-----------+--------------------+---------------------+\n",
      "| report(1) | 0.3989033883949908 | 0.9246306680948304  |\n",
      "+-----------+--------------------+---------------------+\n",
      "+---------+----------+\n",
      "| fire(0) | 0.168015 |\n",
      "+---------+----------+\n",
      "| fire(1) | 0.831985 |\n",
      "+---------+----------+\n",
      "+----------+--------------------+---------------------+\n",
      "| fire     | fire(0)            | fire(1)             |\n",
      "+----------+--------------------+---------------------+\n",
      "| smoke(0) | 0.9338196537987433 | 0.9075856431190016  |\n",
      "+----------+--------------------+---------------------+\n",
      "| smoke(1) | 0.0661803462012568 | 0.09241435688099836 |\n",
      "+----------+--------------------+---------------------+\n"
     ]
    }
   ],
   "source": [
    "model_latent = BayesianNetwork(ebunch=model.edges(), latents=[\"fire\", \"tampering\"])\n",
    "model_latent.fit(partial, estimator=EM)\n",
    "for cpd in model_latent.get_cpds():\n",
    "    print(cpd)"
   ]
  },
  {
   "cell_type": "code",
   "execution_count": null,
   "id": "c9693ad3",
   "metadata": {},
   "outputs": [],
   "source": []
  }
 ],
 "metadata": {
  "kernelspec": {
   "display_name": "Python 3",
   "language": "python",
   "name": "python3"
  },
  "language_info": {
   "codemirror_mode": {
    "name": "ipython",
    "version": 3
   },
   "file_extension": ".py",
   "mimetype": "text/x-python",
   "name": "python",
   "nbconvert_exporter": "python",
   "pygments_lexer": "ipython3",
   "version": "3.8.8"
  }
 },
 "nbformat": 4,
 "nbformat_minor": 5
}
